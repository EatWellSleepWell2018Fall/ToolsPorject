{
 "cells": [
  {
   "cell_type": "code",
   "execution_count": 3,
   "metadata": {},
   "outputs": [
    {
     "name": "stdout",
     "output_type": "stream",
     "text": [
      "Price: 14.4559\n"
     ]
    }
   ],
   "source": [
    "import datetime\n",
    "from random import gauss\n",
    "import math\n",
    "from math import exp, sqrt\n",
    "\n",
    "def generate_asset_price(S,v,r,T):\n",
    "    return S * exp((r - 0.5 * v**2) * T + v * sqrt(T) * gauss(0,1.0))\n",
    "\n",
    "def call_payoff(S_T,K):\n",
    "    return max(0.0,S_T-K)\n",
    "\n",
    "S = 857.29 # underlying price\n",
    "v = 0.2076 # vol of 20.76%\n",
    "r = 0.0014 # rate of 0.14%\n",
    "T = (datetime.date(2013,9,21) - datetime.date(2013,9,3)).days / 365.0\n",
    "K = 860.\n",
    "simulations = 90000\n",
    "payoffs = []\n",
    "discount_factor = math.exp(-r * T)\n",
    "\n",
    "for i in range(simulations):\n",
    "    S_T = generate_asset_price(S,v,r,T)\n",
    "    payoffs.append(\n",
    "        call_payoff(S_T, K)\n",
    "    )\n",
    "\n",
    "price = discount_factor * (sum(payoffs) / float(simulations))\n",
    "print('Price: %.4f' % price)"
   ]
  },
  {
   "cell_type": "code",
   "execution_count": null,
   "metadata": {},
   "outputs": [],
   "source": []
  }
 ],
 "metadata": {
  "kernelspec": {
   "display_name": "Python 3",
   "language": "python",
   "name": "python3"
  },
  "language_info": {
   "codemirror_mode": {
    "name": "ipython",
    "version": 3
   },
   "file_extension": ".py",
   "mimetype": "text/x-python",
   "name": "python",
   "nbconvert_exporter": "python",
   "pygments_lexer": "ipython3",
   "version": "3.6.5"
  }
 },
 "nbformat": 4,
 "nbformat_minor": 2
}
