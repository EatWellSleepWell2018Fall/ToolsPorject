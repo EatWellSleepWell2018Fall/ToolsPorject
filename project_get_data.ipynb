{
 "cells": [
  {
   "cell_type": "code",
   "execution_count": 134,
   "metadata": {},
   "outputs": [],
   "source": [
    "def get_stock_info(stock_name, start = 0, end = 0):\n",
    "    import pandas as pd\n",
    "    import datetime\n",
    "    import pandas_datareader.data as web\n",
    "    import fix_yahoo_finance as yf\n",
    "    end = datetime.date.today()\n",
    "    start = end - datetime.timedelta(days = 365*10)\n",
    "    try:\n",
    "        data = web.get_data_yahoo(stock_name, start,end)\n",
    "        data['Return'] = data['Close'].pct_change()\n",
    "        data = data.dropna()\n",
    "        std = data['Return'].describe().loc['std']\n",
    "        price = data['Close'].iloc[len(data)-1]\n",
    "        \n",
    "        return price, std\n",
    "        \n",
    "    except:\n",
    "        print('Cannot find stock data')\n",
    "    \n",
    "    "
   ]
  },
  {
   "cell_type": "code",
   "execution_count": 143,
   "metadata": {},
   "outputs": [
    {
     "data": {
      "text/plain": [
       "(176.77999877929688, 0.01690404738972001)"
      ]
     },
     "execution_count": 143,
     "metadata": {},
     "output_type": "execute_result"
    }
   ],
   "source": [
    "get_stock_info('AAPL')"
   ]
  },
  {
   "cell_type": "code",
   "execution_count": 179,
   "metadata": {},
   "outputs": [],
   "source": [
    "def get_rf(date = 0, tenor = '10 yr'):\n",
    "    import requests\n",
    "    from bs4 import BeautifulSoup\n",
    "    import datetime\n",
    "    url = 'https://www.treasury.gov/resource-center/data-chart-center/interest-rates/Pages/TextView.aspx?data=yield'\n",
    "    response = requests.get(url)\n",
    "\n",
    "    if response.status_code == 200:\n",
    "        #print(\"Success\")\n",
    "        data_page = BeautifulSoup(response.content,'lxml')\n",
    "        yield_table = data_page.find('table', class_ = 't-chart')\n",
    "        trs = yield_table.find_all('tr')\n",
    "        col = [trs[0].find_all('th', scope = 'col')[i].get_text() \n",
    "                for i in range(1,len(trs[0].find_all('th', scope = 'col')))]\n",
    "        index = [trs[i].find_all('td', scope = 'row')[0].get_text() for i in range(1,len(trs))]\n",
    "\n",
    "        # first commit\n",
    "\n",
    "        rates = [[float(trs[i].find_all('td')[j].get_text()) for j in range(1,len(col)+1)] for i in range(1,len(trs))]\n",
    "        data = pd.DataFrame(rates, columns = col, index = index)\n",
    "        data = data/100 #pct_value\n",
    "        \n",
    "        date = data.index.values[len(data)-1] #latest data\n",
    "\n",
    "        rf_rate = data.loc[date][tenor]\n",
    "    else:\n",
    "        print('Failure')\n",
    "    return rf_rate"
   ]
  },
  {
   "cell_type": "code",
   "execution_count": 178,
   "metadata": {},
   "outputs": [
    {
     "data": {
      "text/plain": [
       "0.030600000000000002"
      ]
     },
     "execution_count": 178,
     "metadata": {},
     "output_type": "execute_result"
    }
   ],
   "source": [
    "get_rf()"
   ]
  }
 ],
 "metadata": {
  "kernelspec": {
   "display_name": "Python 3",
   "language": "python",
   "name": "python3"
  },
  "language_info": {
   "codemirror_mode": {
    "name": "ipython",
    "version": 3
   },
   "file_extension": ".py",
   "mimetype": "text/x-python",
   "name": "python",
   "nbconvert_exporter": "python",
   "pygments_lexer": "ipython3",
   "version": "3.6.6"
  }
 },
 "nbformat": 4,
 "nbformat_minor": 2
}
