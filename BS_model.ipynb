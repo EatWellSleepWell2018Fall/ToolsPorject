{
 "cells": [
  {
   "cell_type": "code",
   "execution_count": 36,
   "metadata": {},
   "outputs": [],
   "source": [
    "def BS_model(stock_price, var, strike_price, r_f, ttm):\n",
    "    import scipy.stats\n",
    "    import numpy as np\n",
    "    import math\n",
    "    norm_dist = scipy.stats.norm(0, 1)\n",
    "    d1 = 1/(var * math.sqrt(ttm)) * (np.log(stock_price/strike_price) +(r_f + (var**2/2))*ttm)\n",
    "    d2 = d1 - var*math.sqrt(ttm)\n",
    "    \n",
    "    call_value = norm_dist.cdf(d1) * stock_price - norm_dist.cdf(d2) * strike_price * math.exp(-r_f * ttm)\n",
    "    put_value = strike_price * math.exp(-r_f * ttm) - stock_price + call_value\n",
    "    \n",
    "    return call_value, put_value"
   ]
  },
  {
   "cell_type": "code",
   "execution_count": 39,
   "metadata": {},
   "outputs": [
    {
     "data": {
      "text/plain": [
       "(5.58187715093873, 2.62643050578955)"
      ]
     },
     "execution_count": 39,
     "metadata": {},
     "output_type": "execute_result"
    }
   ],
   "source": [
    "stock_price = 100\n",
    "var = 0.1\n",
    "strike_price = 100\n",
    "r_f = 0.03\n",
    "ttm = 1\n",
    "\n",
    "BS_model(stock_price, var, strike_price, r_f, ttm)"
   ]
  },
  {
   "cell_type": "code",
   "execution_count": null,
   "metadata": {},
   "outputs": [],
   "source": []
  }
 ],
 "metadata": {
  "kernelspec": {
   "display_name": "Python 3",
   "language": "python",
   "name": "python3"
  },
  "language_info": {
   "codemirror_mode": {
    "name": "ipython",
    "version": 3
   },
   "file_extension": ".py",
   "mimetype": "text/x-python",
   "name": "python",
   "nbconvert_exporter": "python",
   "pygments_lexer": "ipython3",
   "version": "3.6.6"
  }
 },
 "nbformat": 4,
 "nbformat_minor": 2
}
