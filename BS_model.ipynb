{
 "cells": [
  {
   "cell_type": "code",
   "execution_count": 50,
   "metadata": {},
   "outputs": [],
   "source": [
    "def BS_model(stock_price, var, strike_price, r_f, ttm):\n",
    "    import scipy.stats\n",
    "    import numpy as np\n",
    "    from math import sqrt, exp\n",
    "    import pandas as pd\n",
    "    norm_dist = scipy.stats.norm(0, 1)\n",
    "    d1 = 1/(var * sqrt(ttm)) * (np.log(stock_price/strike_price) +(r_f + (var**2/2))*ttm)\n",
    "    d2 = d1 - var*sqrt(ttm)\n",
    "    \n",
    "    call_value = norm_dist.cdf(d1) * stock_price - norm_dist.cdf(d2) * strike_price * exp(-r_f * ttm)\n",
    "    put_value = strike_price * exp(-r_f * ttm) - stock_price + call_value\n",
    "    \n",
    "    delta_call = norm_dist.cdf(d1)\n",
    "    delta_put = norm_dist.cdf(d1) - 1\n",
    "    gamma = norm_dist.pdf(d1)/(stock_price * var * sqrt(ttm))\n",
    "    vega = stock_price * norm_dist.pdf(d1) * sqrt(ttm)\n",
    "    theta_call = -(stock_price * norm_dist.pdf(d1) * var)/(2*sqrt(ttm))- (r_f * strike_price * \n",
    "                                                                          norm_dist.cdf(d2) * exp(-r_f*ttm))\n",
    "    theta_put = -(stock_price * norm_dist.pdf(d1) * var)/(2*sqrt(ttm))+ (r_f * strike_price * \n",
    "                                                                          norm_dist.cdf(-d2) * exp(-r_f*ttm))\n",
    "    rho_call = strike_price * ttm * norm_dist.cdf(d2) * exp(-r_f * ttm)\n",
    "    rho_put = -strike_price * ttm * norm_dist.cdf(-d2) * exp(-r_f * ttm)\n",
    "    \n",
    "    price = [call_value, put_value]\n",
    "    delta = [delta_call, delta_put]\n",
    "    gamma = [gamma]*2\n",
    "    vega = [vega]*2\n",
    "    theta = [theta_call, theta_put]\n",
    "    rho = [rho_call, rho_put]\n",
    "    \n",
    "    output = [price, delta, gamma, vega, theta, rho]\n",
    "    col = ['Call', 'Put']\n",
    "    index = ['Price', 'Delta', 'Gamma', 'Vega', 'Theta', 'Rho']\n",
    "    \n",
    "    BS_df = pd.DataFrame(output, columns = col, index = index)\n",
    "    \n",
    "    return BS_df"
   ]
  },
  {
   "cell_type": "code",
   "execution_count": 51,
   "metadata": {},
   "outputs": [
    {
     "data": {
      "text/html": [
       "<div>\n",
       "<style scoped>\n",
       "    .dataframe tbody tr th:only-of-type {\n",
       "        vertical-align: middle;\n",
       "    }\n",
       "\n",
       "    .dataframe tbody tr th {\n",
       "        vertical-align: top;\n",
       "    }\n",
       "\n",
       "    .dataframe thead th {\n",
       "        text-align: right;\n",
       "    }\n",
       "</style>\n",
       "<table border=\"1\" class=\"dataframe\">\n",
       "  <thead>\n",
       "    <tr style=\"text-align: right;\">\n",
       "      <th></th>\n",
       "      <th>Call</th>\n",
       "      <th>Put</th>\n",
       "    </tr>\n",
       "  </thead>\n",
       "  <tbody>\n",
       "    <tr>\n",
       "      <th>Price</th>\n",
       "      <td>5.581877</td>\n",
       "      <td>2.626431</td>\n",
       "    </tr>\n",
       "    <tr>\n",
       "      <th>Delta</th>\n",
       "      <td>0.636831</td>\n",
       "      <td>-0.363169</td>\n",
       "    </tr>\n",
       "    <tr>\n",
       "      <th>Gamma</th>\n",
       "      <td>0.037524</td>\n",
       "      <td>0.037524</td>\n",
       "    </tr>\n",
       "    <tr>\n",
       "      <th>Vega</th>\n",
       "      <td>37.524035</td>\n",
       "      <td>37.524035</td>\n",
       "    </tr>\n",
       "    <tr>\n",
       "      <th>Theta</th>\n",
       "      <td>-3.619237</td>\n",
       "      <td>-0.707901</td>\n",
       "    </tr>\n",
       "    <tr>\n",
       "      <th>Rho</th>\n",
       "      <td>58.101188</td>\n",
       "      <td>-38.943365</td>\n",
       "    </tr>\n",
       "  </tbody>\n",
       "</table>\n",
       "</div>"
      ],
      "text/plain": [
       "            Call        Put\n",
       "Price   5.581877   2.626431\n",
       "Delta   0.636831  -0.363169\n",
       "Gamma   0.037524   0.037524\n",
       "Vega   37.524035  37.524035\n",
       "Theta  -3.619237  -0.707901\n",
       "Rho    58.101188 -38.943365"
      ]
     },
     "execution_count": 51,
     "metadata": {},
     "output_type": "execute_result"
    }
   ],
   "source": [
    "stock_price = 100\n",
    "var = 0.1\n",
    "strike_price = 100\n",
    "r_f = 0.03\n",
    "ttm = 1\n",
    "\n",
    "BS_model(stock_price, var, strike_price, r_f, ttm)"
   ]
  },
  {
   "cell_type": "code",
   "execution_count": null,
   "metadata": {},
   "outputs": [],
   "source": []
  }
 ],
 "metadata": {
  "kernelspec": {
   "display_name": "Python 3",
   "language": "python",
   "name": "python3"
  },
  "language_info": {
   "codemirror_mode": {
    "name": "ipython",
    "version": 3
   },
   "file_extension": ".py",
   "mimetype": "text/x-python",
   "name": "python",
   "nbconvert_exporter": "python",
   "pygments_lexer": "ipython3",
   "version": "3.6.6"
  }
 },
 "nbformat": 4,
 "nbformat_minor": 2
}
