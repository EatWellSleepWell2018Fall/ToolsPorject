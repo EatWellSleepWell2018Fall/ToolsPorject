{
 "cells": [
  {
   "cell_type": "code",
   "execution_count": 36,
   "metadata": {},
   "outputs": [],
   "source": [
    "class OptionPricing:\n",
    "    def __init__(self, stock_name, strike_price, ttm, option_type = 'Call'): #visualizaition = True):\n",
    "        self.stock_name = stock_name\n",
    "        self.option_type = option_type\n",
    "        #self.visual = visualization\n",
    "        self.strike_price = strike_price\n",
    "        self.ttm = ttm\n",
    "        \n",
    "    \n",
    "    def get_stock_info(self, start = 0, end = 0):\n",
    "\n",
    "        import pandas as pd\n",
    "        import numpy as np\n",
    "        import datetime\n",
    "        import pandas_datareader.data as web\n",
    "        import fix_yahoo_finance as yf\n",
    "        end = datetime.date.today()\n",
    "        start = end - datetime.timedelta(days = 365*10)\n",
    "        try:\n",
    "            data = web.get_data_yahoo(self.stock_name, start,end)\n",
    "            data['Return'] = data['Close'].pct_change()\n",
    "            data = data.dropna()\n",
    "            self.std = data['Return'].describe().loc['std']\n",
    "            self.std = self.std * np.sqrt(252) #annualize\n",
    "            self.price = data['Close'].iloc[len(data)-1]\n",
    "\n",
    "            return self.price, self.std\n",
    "\n",
    "        except:\n",
    "            print('Cannot find stock data')\n",
    "    \n",
    "    \n",
    "    \n",
    "    def get_rf(self, date = 0, tenor = '10 yr'):\n",
    "        import pandas as pd\n",
    "        import requests\n",
    "        from bs4 import BeautifulSoup\n",
    "        import datetime\n",
    "        url = 'https://www.treasury.gov/resource-center/data-chart-center/interest-rates/Pages/TextView.aspx?data=yield'\n",
    "        response = requests.get(url)\n",
    "\n",
    "        if response.status_code == 200:\n",
    "            data_page = BeautifulSoup(response.content,'lxml')\n",
    "            yield_table = data_page.find('table', class_ = 't-chart')\n",
    "            trs = yield_table.find_all('tr')\n",
    "            col = [trs[0].find_all('th', scope = 'col')[i].get_text() \n",
    "                    for i in range(1,len(trs[0].find_all('th', scope = 'col')))]\n",
    "            index = [trs[i].find_all('td', scope = 'row')[0].get_text() for i in range(1,len(trs))]\n",
    "\n",
    "            rates = [[float(trs[i].find_all('td')[j].get_text()) for j in range(1,len(col)+1)] for i in range(1,len(trs))]\n",
    "            data = pd.DataFrame(rates, columns = col, index = index)\n",
    "            data = data/100 #pct_value\n",
    "\n",
    "            date = data.index.values[len(data)-1] #latest data\n",
    "\n",
    "            self.rf_rate = data.loc[date][tenor]\n",
    "        else:\n",
    "            print('Failure')\n",
    "\n",
    "        return self.rf_rate #risk free rate\n",
    "    \n",
    "    \n",
    "    def BS_model(self):\n",
    "\n",
    "        stock_price = self.price # from get_stock_info\n",
    "        var = self.std ** 2\n",
    "        strike_price = self.strike_price\n",
    "        r_f = self.r_f\n",
    "        ttm =self.ttm\n",
    "        \n",
    "        return self.BS_df \n",
    "\n",
    "        \n",
    "    \n",
    "    def BS_sensitivity_plot(self):\n",
    "        stock_price = self.price\n",
    "        var = self.std ** 2\n",
    "        strike_price = self.strike_price\n",
    "        r_f = self.r_f\n",
    "        ttm =self.ttm\n",
    "        option_type = self.option_type\n",
    "        \n",
    "        \n",
    "        \n",
    "        \n",
    "#     def mc_euro_options(self, option_type,S,K,T,r,v,simulations):\n",
    "        \n",
    "\n",
    "    \n",
    "#     def simulations_converge(self, option_type,S,K,T,r,v,simulations):\n",
    "#         pass\n",
    "    \n",
    "#     def stock_time(self, S,K,r,v,simulations,steps,time_delta):\n",
    "#         pass\n",
    "    \n",
    "#     def BinomialTreeCRR(self, T, S, K, r, sigma, n, option_type='C'):\n",
    "#         pass"
   ]
  },
  {
   "cell_type": "code",
   "execution_count": 41,
   "metadata": {},
   "outputs": [
    {
     "data": {
      "text/plain": [
       "0.0301"
      ]
     },
     "execution_count": 41,
     "metadata": {},
     "output_type": "execute_result"
    }
   ],
   "source": [
    "O = OptionPricing('AAPL', 100, 1 )\n",
    "O.get_stock_info()\n",
    "O.get_rf()"
   ]
  },
  {
   "cell_type": "code",
   "execution_count": null,
   "metadata": {},
   "outputs": [],
   "source": []
  }
 ],
 "metadata": {
  "kernelspec": {
   "display_name": "Python 3",
   "language": "python",
   "name": "python3"
  },
  "language_info": {
   "codemirror_mode": {
    "name": "ipython",
    "version": 3
   },
   "file_extension": ".py",
   "mimetype": "text/x-python",
   "name": "python",
   "nbconvert_exporter": "python",
   "pygments_lexer": "ipython3",
   "version": "3.6.6"
  }
 },
 "nbformat": 4,
 "nbformat_minor": 2
}
