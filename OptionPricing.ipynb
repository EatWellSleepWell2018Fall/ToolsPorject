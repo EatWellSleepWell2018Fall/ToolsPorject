{
 "cells": [
  {
   "cell_type": "code",
   "execution_count": null,
   "metadata": {},
   "outputs": [],
   "source": [
    "class OptionPricing:\n",
    "    def __init__(self, stockname, strike_price, ttm, option_type = 'Call', visualizaition = True):\n",
    "        self.stockname = stockname\n",
    "        self.option_type = option_type\n",
    "        self.visual = visualization\n",
    "        self.strike_price = strike_price\n",
    "        self.ttm = ttm\n",
    "        \n",
    "    \n",
    "    def get_stock_info(self, stock_name, start = 0, end = 0):\n",
    "\n",
    "        return self.price,self.std # stock price and std\n",
    "    \n",
    "    \n",
    "    \n",
    "    def get_rf(self, date = 0, tenor = '10 yr'):\n",
    "\n",
    "        return self.r_f #risk free rate\n",
    "    \n",
    "    \n",
    "    def BS_model(self):\n",
    "\n",
    "        stock_price = self.price # from get_stock_info\n",
    "        var = self.std ** 2\n",
    "        strike_price = self.strike_price\n",
    "        r_f = self.r_f\n",
    "        ttm =self.ttm\n",
    "        \n",
    "        return self.BS_df \n",
    "\n",
    "        \n",
    "    \n",
    "    def BS_sensitivity_plot(self):\n",
    "        stock_price = self.price\n",
    "        var = self.std ** 2\n",
    "        strike_price = self.strike_price\n",
    "        r_f = self.r_f\n",
    "        ttm =self.ttm\n",
    "        option_type = self.option_type\n",
    "        \n",
    "        \n",
    "        \n",
    "        \n",
    "    def mc_euro_options(self, option_type,S,K,T,r,v,simulations):\n",
    "        \n",
    "\n",
    "    \n",
    "    def simulations_converge(self, option_type,S,K,T,r,v,simulations):\n",
    "        pass\n",
    "    \n",
    "    def stock_time(self, S,K,r,v,simulations,steps,time_delta):\n",
    "        pass\n",
    "    \n",
    "    def BinomialTreeCRR(self, T, S, K, r, sigma, n, option_type='C'):\n",
    "        pass"
   ]
  },
  {
   "cell_type": "code",
   "execution_count": null,
   "metadata": {},
   "outputs": [],
   "source": []
  }
 ],
 "metadata": {
  "kernelspec": {
   "display_name": "Python 3",
   "language": "python",
   "name": "python3"
  },
  "language_info": {
   "codemirror_mode": {
    "name": "ipython",
    "version": 3
   },
   "file_extension": ".py",
   "mimetype": "text/x-python",
   "name": "python",
   "nbconvert_exporter": "python",
   "pygments_lexer": "ipython3",
   "version": "3.6.5"
  }
 },
 "nbformat": 4,
 "nbformat_minor": 2
}
